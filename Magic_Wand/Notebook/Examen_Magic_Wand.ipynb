{
 "cells": [
  {
   "cell_type": "markdown",
   "metadata": {},
   "source": [
    "# Magic Wand, Minecrabracadabra\n",
    "\n",
    "_Auteurs: **Albert and Ludovic**_\n",
    "\n",
    "_Affiliation: **Gymnase du Bugnon**_\n",
    "\n",
    "_Année: **2017-2018**_\n",
    "\n",
    "_Classe: **OC-Informatique**_"
   ]
  },
  {
   "cell_type": "markdown",
   "metadata": {},
   "source": [
    "## Fonctionnement\n",
    "\n",
    "**Principe**: Afin d'interagir avec le Rasperry Pi pour pouvoir utiliser les fonctions Minecraft inclues dans python, nous utilisons une baguette sur laquelle nous avons fixés deux cercles un rouge et un bleu. Grace à une caméra, nous détectons si un objet de couleur rouge ou bleu se situe dans un des cadrans de l’image perçue par la caméra.\n",
    "\n",
    "Selon le cadran et la couleur nous définissons la fonction utilisée, parmi 4, Mine, Midas, House et Bridge. Il est aussi possible de choisir 2 matériaux différents ainsi que 2 tailles prédéfinies, petit et grand. Une fois tous les paramètres sélectionnés, si le Raspberry Pi détecte un objet bleu au centre de l’image, il lance la fonction. Si c’est un objet rouge il arrête la caméra et le programme.\n",
    "\n",
    "Illustrations:\n",
    "La vidéo de présentation pour le concours bugnplay, est une bonne illuatration du fonctionnement de Magic Wand:\n",
    "https://www.youtube.com/watch?v=HtxRfrnMXhs\n",
    "\n",
    "La détection se fait dans 5 cadrans (LU, LD, Mid, RU,RD):\n",
    "<img src='https://raw.githubusercontent.com/Bugnon/minecraft/master/Magic_Wand/Pictures/Schéma_interface.png' style=\"float:center;width:400px;\">\n",
    "\n",
    "Lorsque qu'un cadran détecte qu'il y a la baguette en lui (rouge ou bleu), il s'encadre de cette couleur. Et, si la couleur est détectée assez longtemps le paramètre correspondant s'execute et il se colorie:\n",
    "\n",
    "<img src='https://raw.githubusercontent.com/Bugnon/minecraft/master/Magic_Wand/Pictures/Cadran%201.png' style=\"float:left;width:450px;\"><img src='https://raw.githubusercontent.com/Bugnon/minecraft/master/Magic_Wand/Pictures/Cadran%202.png' style=\"float:right;width:450px;\">"
   ]
  },
  {
   "cell_type": "markdown",
   "metadata": {},
   "source": [
    "## Historique"
   ]
  },
  {
   "cell_type": "markdown",
   "metadata": {},
   "source": [
    "<img src='https://raw.githubusercontent.com/Bugnon/minecraft/master/Magic_Wand/Pictures/Magic_Wand_Idees.jpeg' style=\"float:right;width:400px;\">\n",
    "Ce projet a débuté pendant le mois de décembre 2017. Il s'agissait alors du premier des deux projets que nous devions créer pendant le second semestre de l'année scolaire. Le but premier du projet était de lier Mincraft.pi au Raspberry.pi en utilisant le langage python et un support physique. Monsieur Holzer a alors suggéré une baguette magique par exemple et la base du projet a germé de cette proposition. Le projet Minecrabracadabra était né.<br/>\n",
    "La première idée fut donc d'utiliser une baguette et une boite afin d'utiliser des fonctions que nous allions créer avec python. Parmi ces premières idées de fonctions, la mine la maison et le pont furent conservées bien que les fonctions aient bien changées depuis leur première création. Ci-contre le premier croquis de la boite et les idées de fonctions a utiliser:\n",
    "\n",
    "Parmi les 2 idées de baguette possibles:\n",
    "* La première consitait en une simple baguette qui poussait un bout de métal accroché à un ressort afin de laisser le courant électrique circuler et faire office de bouton avec le GPIO.\n",
    "\n",
    "* La seconde idée, celle qui fut conservée était une baguette avec un embout métallique qui permet au courant électrique de circuler. Cette idée fut retenue car elle était bien plus simple à mettre en place.\n",
    "\n",
    "Voici donc le premier prototype de baguette crée, elle est plus que rudimentaire et bien trop fragile pour être utilisée mais elle a servi a illustrer la base de notre projet:\n",
    "<img src='https://raw.githubusercontent.com/Bugnon/minecraft/master/Magic_Wand/Pictures/Baguette_1er_essai.jpeg' style=\"float:center;width:200px;\">"
   ]
  },
  {
   "cell_type": "markdown",
   "metadata": {},
   "source": [
    "Rapidement un deuxième prototype fut créé (à gauche), il devait aussi inclure des boutons sur la baguette elle-même, afin de séléctionner des paramètre et lancer la fonction avec le courant electrique.\n",
    "\n",
    "Les croix rouges représentent l'emplacement des futurs boutons.\n",
    "\n",
    "Puis cette meme baguette solidifiée et avec un embout en métal: (à droite)"
   ]
  },
  {
   "cell_type": "markdown",
   "metadata": {},
   "source": [
    "<img src='https://raw.githubusercontent.com/Bugnon/minecraft/master/Magic_Wand/Pictures/Baguette_2nd_essai.jpeg' style=\"float:left;width:280px;\"><img src='https://raw.githubusercontent.com/Bugnon/minecraft/master/Magic_Wand/Pictures/Baguette_metal.jpeg' style=\"float:right;width:280px;\">"
   ]
  },
  {
   "cell_type": "markdown",
   "metadata": {},
   "source": [
    "De plus la boite prenait forme elle aussi et bien que nous n'avions pas encore choisi quelle possibilités utliser pour faire passer un courant la boite était construite:<img src='https://raw.githubusercontent.com/Bugnon/minecraft/master/Magic_Wand/Pictures/Boite_Debut.PNG' style=\"float:center;width:280px;\">"
   ]
  },
  {
   "cell_type": "markdown",
   "metadata": {},
   "source": [
    "Pendant ce temps nous travaillions aussi sur l'interface dans Minecraft.pi que nous allions utliser pour le projet. Bien qu'elle ne fut pas conservée il est intéressant de voir une première ébauche.\n",
    "<img src='https://raw.githubusercontent.com/Bugnon/minecraft/master/Magic_Wand/Pictures/Interface_essai.jpeg' style=\"float:center;width:700px;\">"
   ]
  },
  {
   "cell_type": "markdown",
   "metadata": {},
   "source": [
    "Afin de relier les boutons au GPIO du Raspberry.pi nous avions pensé utiliser de long fils électriques détachables afin de ne pas trop nous encombrer mais Monsieur Holzer nous a demandé d'intégrer les connaissances que nous avions acquises sur OpenCV dans notre projet. Ce fut une bonne idée. Nous devions donc utiliser une caméra dans le projet et le prototype de baguette métallique fut abandonné."
   ]
  },
  {
   "cell_type": "markdown",
   "metadata": {},
   "source": [
    "Nous avons donc décider de détecter un objet de couleur accroché à une baguette afin de conserver l'idée de base du projet tout en utilisant une caméra et OpenCV. Voici la baguette en question dont l'une des face est rouge et l'autre bleu:\n",
    "<img src='https://raw.githubusercontent.com/Bugnon/minecraft/master/Magic_Wand/Pictures/Baguette_Rouge_debut.jpeg' style=\"float:center;width:300px;\">"
   ]
  },
  {
   "cell_type": "markdown",
   "metadata": {},
   "source": [
    "Plus besoin de percer la boite afin d'installer quelque chose permettant un courant éléctrique nous avons donc pu entamer le début de la décoration de la boite et nous avons réfléchi à comment installer le Raspberry.pi et la caméra dans cette boite. Finalement nous avons utilisé des bande velcro pour accrocher le Raspberry.pi et la caméra."
   ]
  },
  {
   "cell_type": "markdown",
   "metadata": {},
   "source": [
    "<img src='https://raw.githubusercontent.com/Bugnon/minecraft/master/Magic_Wand/Pictures/Boite_avant_trou.jpeg' style=\"float:center;width:300px;\">"
   ]
  },
  {
   "cell_type": "markdown",
   "metadata": {},
   "source": [
    "Et voici une première idée de fixation du Raspberry.pi. Malheureusement le cable HDMI posait problème lors de la fermeture de la boite:"
   ]
  },
  {
   "cell_type": "markdown",
   "metadata": {},
   "source": [
    "<img src='https://raw.githubusercontent.com/Bugnon/minecraft/master/Magic_Wand/Pictures/Probleme_cables.jpeg' style=\"float:center;width:700px;\">"
   ]
  },
  {
   "cell_type": "markdown",
   "metadata": {},
   "source": [
    "Nous avons donc percé la boite afin de permettre à tous les cables de rentrer sans problème et nous avons fixé avec de la  bande adhésive la caméra sur la partie supérieure de la boite. Le RaspberryPi est lui aussi scotché à la boite. Les vélcros sont maintenant que preuve d'évolution."
   ]
  },
  {
   "cell_type": "markdown",
   "metadata": {},
   "source": [
    "<img src='https://raw.githubusercontent.com/Bugnon/minecraft/master/Magic_Wand/Pictures/Boite_actuel.jpeg' style=\"float:center;width:600px;\">"
   ]
  },
  {
   "cell_type": "markdown",
   "metadata": {},
   "source": [
    "Quant aux fonctions elles ont toutes évolué petit à petit sans de grand changement à l'exception de la maison qui est passée par de nombreux essais."
   ]
  },
  {
   "cell_type": "markdown",
   "metadata": {},
   "source": [
    "![Maison1](https://raw.githubusercontent.com/Bugnon/minecraft/master/Magic_Wand/Pictures/House_1er_essai.jpeg)"
   ]
  },
  {
   "cell_type": "markdown",
   "metadata": {},
   "source": [
    "![Maison2](https://raw.githubusercontent.com/Bugnon/minecraft/master/Magic_Wand/Pictures/House_2juin.jpeg)"
   ]
  },
  {
   "cell_type": "markdown",
   "metadata": {},
   "source": [
    "![Maison3](https://raw.githubusercontent.com/Bugnon/minecraft/master/Magic_Wand/Pictures/House_final.jpeg)"
   ]
  },
  {
   "cell_type": "markdown",
   "metadata": {},
   "source": [
    "## Les fonctions de construction"
   ]
  },
  {
   "cell_type": "markdown",
   "metadata": {},
   "source": [
    "### Bridge.py"
   ]
  },
  {
   "cell_type": "markdown",
   "metadata": {},
   "source": [
    "`bridge(x, y, z, blocktype)` est une fonction qui crée un pont dans la direction nord du joueur.  \n",
    "Ce pont peut être en bois ou en pierre selon l'argument choisi.  \n",
    "La longueur de ce pont n'est pas réglable car la longueur du pont est calculée selon le nombre de blocs vides au nord du joueur.  \n",
    "De plus la longueur minimum du pont est de 5 blocs."
   ]
  },
  {
   "cell_type": "markdown",
   "metadata": {},
   "source": [
    "La longueur du pont est définie par la fonction `lengthbridge(x, y, z)` qui appelle la fonction `isvoid(x, y, z)` afin de calculer le nombre de blocs vides au Nord du joueur."
   ]
  },
  {
   "cell_type": "markdown",
   "metadata": {},
   "source": [
    "La fonction `bridge(x, y, z, blocktype)` utilise quant à elle les fonctions  \n",
    "`first_stage(x, y, z, l, stairs, block)` et `second_stage(x, y, z, l, stairs, block)` afin de rendre le code plus lisible."
   ]
  },
  {
   "cell_type": "markdown",
   "metadata": {},
   "source": [
    "Le matériau chosi implique un id de blocs pour les escaliers et les blocs:\n"
   ]
  },
  {
   "cell_type": "code",
   "execution_count": 1,
   "metadata": {},
   "outputs": [
    {
     "ename": "NameError",
     "evalue": "name 'blocktype' is not defined",
     "output_type": "error",
     "traceback": [
      "\u001b[0;31m---------------------------------------------------------------------------\u001b[0m",
      "\u001b[0;31mNameError\u001b[0m                                 Traceback (most recent call last)",
      "\u001b[0;32m<ipython-input-1-b5039a8893cd>\u001b[0m in \u001b[0;36m<module>\u001b[0;34m()\u001b[0m\n\u001b[0;32m----> 1\u001b[0;31m \u001b[0;32mif\u001b[0m \u001b[0mblocktype\u001b[0m \u001b[0;32mis\u001b[0m \u001b[0;34m\"COBBLESTONE\"\u001b[0m\u001b[0;34m:\u001b[0m\u001b[0;34m\u001b[0m\u001b[0m\n\u001b[0m\u001b[1;32m      2\u001b[0m     \u001b[0mstairs\u001b[0m \u001b[0;34m=\u001b[0m \u001b[0;36m67\u001b[0m\u001b[0;34m\u001b[0m\u001b[0m\n\u001b[1;32m      3\u001b[0m     \u001b[0mblock\u001b[0m \u001b[0;34m=\u001b[0m \u001b[0;36m4\u001b[0m\u001b[0;34m\u001b[0m\u001b[0m\n\u001b[1;32m      4\u001b[0m \u001b[0;32mif\u001b[0m \u001b[0mblocktype\u001b[0m \u001b[0;32mis\u001b[0m \u001b[0;34m\"WOOD\"\u001b[0m\u001b[0;34m:\u001b[0m\u001b[0;34m\u001b[0m\u001b[0m\n\u001b[1;32m      5\u001b[0m     \u001b[0mstairs\u001b[0m \u001b[0;34m=\u001b[0m \u001b[0;36m53\u001b[0m\u001b[0;34m\u001b[0m\u001b[0m\n",
      "\u001b[0;31mNameError\u001b[0m: name 'blocktype' is not defined"
     ]
    }
   ],
   "source": [
    "if blocktype is \"COBBLESTONE\":\n",
    "    stairs = 67\n",
    "    block = 4\n",
    "if blocktype is \"WOOD\":\n",
    "    stairs = 53\n",
    "    block = 5"
   ]
  },
  {
   "cell_type": "markdown",
   "metadata": {},
   "source": [
    "Le point de départ du pont est trouvé par la partie ci-dessous de la fonction `bridge(x, y, z, blocktype)`:"
   ]
  },
  {
   "cell_type": "code",
   "execution_count": null,
   "metadata": {},
   "outputs": [],
   "source": [
    "while True:\n",
    "    if isvoid(x, y-1, z-i) is True or isvoid(x+1, y-1, z-i) is True:\n",
    "        xs, ys, zs = x, y-1, z-i\n",
    "        break\n",
    "    else:\n",
    "        i += 1"
   ]
  },
  {
   "cell_type": "markdown",
   "metadata": {},
   "source": [
    "![Bridge](https://raw.githubusercontent.com/Bugnon/minecraft/master/Magic_Wand/Pictures/Bridge.png)"
   ]
  },
  {
   "cell_type": "markdown",
   "metadata": {},
   "source": [
    "### House.py"
   ]
  },
  {
   "cell_type": "markdown",
   "metadata": {},
   "source": [
    "`house(x, y, z, material, n)` est une fonction qui crée une maison autour du joueur avec une porte orientée vers le Nord.  \n",
    "Deux types de matériaux sont disponible, la pierre et le bois.  \n",
    "De plus un espace vide de deux blocs est créé autour de la maison et un bloc de fondation se trouve sous la maison."
   ]
  },
  {
   "cell_type": "markdown",
   "metadata": {},
   "source": [
    "Tout comme Bridge.py le choix de matériaux implique des id de blocs différents:"
   ]
  },
  {
   "cell_type": "code",
   "execution_count": null,
   "metadata": {},
   "outputs": [],
   "source": [
    "if material == \"WOOD\":\n",
    "    M1 = 5\n",
    "    M2 = 17\n",
    "    stairs = 53\n",
    "if material == \"COBBLESTONE\":\n",
    "    M1 = 98\n",
    "    M2 = 4\n",
    "    stairs = 109"
   ]
  },
  {
   "cell_type": "markdown",
   "metadata": {},
   "source": [
    "afin de créer un bloc vide avant de construire la maison `house(x, y, z, material, n)` utilise `clear_space(x, y, z, range)`"
   ]
  },
  {
   "cell_type": "markdown",
   "metadata": {},
   "source": [
    "![House](https://raw.githubusercontent.com/Bugnon/minecraft/master/Magic_Wand/Pictures/House.png)"
   ]
  },
  {
   "cell_type": "markdown",
   "metadata": {},
   "source": [
    "### Midas.py"
   ]
  },
  {
   "cell_type": "markdown",
   "metadata": {},
   "source": [
    "`Midascube(x, y, z, size, blockid)` est une fonction qui transforme les blocs non-vide autour du joueur.  \n",
    "Les blocs transformés peuvent etre de n'importe quel matériau mais la taille du bloc autour du joueur doit etre impaire.  \n",
    "La transformation se fait colonne apres colonne donc la fonction prend relativement beaucoup de temps."
   ]
  },
  {
   "cell_type": "markdown",
   "metadata": {},
   "source": [
    "La fonction `Midascube(x, y, z, size, blockid)` appelle `Midassquare(x, y, z, size, blockid)` qui appelle  \n",
    "`Midasline(x, y, z, size, blockid)` qui appelle `isAir(x, y, z)` afin de transformer selon les blocs non-vides"
   ]
  },
  {
   "cell_type": "markdown",
   "metadata": {},
   "source": [
    "![Midas](https://raw.githubusercontent.com/Bugnon/minecraft/master/Magic_Wand/Pictures/Midas.png)"
   ]
  },
  {
   "cell_type": "markdown",
   "metadata": {},
   "source": [
    "### Mine.py"
   ]
  },
  {
   "cell_type": "markdown",
   "metadata": {},
   "source": [
    "`Mine(x, y, z, direction, size)` est une fonction qui cree une mine en escalier rectiligne vers le Nord ou le Sud.  \n",
    "Des torches sont posées dans la mine à intervalle de 5 blocs."
   ]
  },
  {
   "cell_type": "markdown",
   "metadata": {},
   "source": [
    "La fonction `time.sleep()` est appelée par `Mine(x, y, z, direction, size)` afin d'imposer un délai et laisser d'éventuels blocs de sable ou de gravier tomber dans Minecraft.pi avant que la fonction ne vérifie si ces blocs sont tombés en appelant `isAirz(z, y)`."
   ]
  },
  {
   "cell_type": "markdown",
   "metadata": {},
   "source": [
    "![Mine](https://raw.githubusercontent.com/Bugnon/minecraft/master/Magic_Wand/Pictures/Mine.png)"
   ]
  },
  {
   "cell_type": "markdown",
   "metadata": {},
   "source": [
    "## Les fonctions du programme Magic_Wand.py\n",
    "\n",
    "_Ceci est une description rapide des fonctions. Pour avoir tous les détails, consulter le code qui est totalement annoté._ (https://github.com/Bugnon/minecraft/blob/master/Magic_Wand/Magic_wand.py)\n",
    "\n",
    "Vu l'historique de notre programme nous avons gardé le terme de boutons pour désigner chaque case de chaque couleur."
   ]
  },
  {
   "cell_type": "code",
   "execution_count": null,
   "metadata": {},
   "outputs": [],
   "source": [
    "def button_fct_pressed(n):\n",
    "    \"\"\" Test si le bouton doit etre\n",
    " - 0    le bouton n'est pas active\n",
    " - ' '  le bouton est en attente d'execution\n",
    " - 1    le bouton est enclenche\n",
    " - 'e'  le bouton vient d'etre enclenche / attente de fin de coloriage + temps\n",
    "                                           d'attente avant reexecution\n",
    "\n",
    "Colorie les cases en rouge ou bleu : pleinement si : 1 ou 'e'\n",
    "                                     encadre si  ' '\n",
    "\n",
    " n: int entre 0 et 9\n",
    "\"\"\"\n",
    "    # Enregistrement en string le bouton sur lequel on \"travail\" pour pouvoir\n",
    "    # par la suite enregistrer des valeurs dans les listes.\n",
    "    nb = 'button' + str(n+1)\n",
    "\n",
    "    # On commence par travailler par les boutons \"bleus\" (n < 5)\n",
    "    if n < 5:\n",
    "\n",
    "        # Si le boutons est enclenche ou entrain d'enclenche et que le temps\n",
    "        # d'attente de fin d'execution n'est pas fini, la case se fait colorier\n",
    "        # en bleu et si le bouton valait 1 il est transforme en 'e'\n",
    "        if ((flags[nb] == 1 or flags[nb] == 'e')\n",
    "           and time_flag[nb] > time.time()):\n",
    "            liste[n] = Colorize(liste[n], BLUE, \"FULL\")\n",
    "            flags[nb] = 'e'\n",
    "            return\n",
    "\n",
    "        # Si le bouton est en attente de fin de coloriage, et que le temps est\n",
    "        # depasse la case est coloriee une derniere fois et le bouton et a\n",
    "        # nouveau desactive\n",
    "        if flags[nb] == 'e' and time_flag[nb] < time.time():\n",
    "            liste[n] = Colorize(liste[n], BLUE, \"FULL\")\n",
    "            flags[nb] = 0\n",
    "\n",
    "        # Si le bouton n'est pas active et que la baguette est detectee,\n",
    "        # un cadre se met aux bords de la case et le bouton passe en attente\n",
    "        # d'execution. Le but est d'avoir un temps durant lequel la baguette\n",
    "        # doit etre detectee afin que l'on aie le temps de bien choisir ce\n",
    "        # qu'on veut faire\n",
    "        if regions_blue[n] == True:\n",
    "            liste[n] = Colorize(liste[n], BLUE)\n",
    "            if flags[nb] == 0 and time_flag[nb] < time.time():\n",
    "                flags[nb] = ' '\n",
    "                time_flag[nb] = waiting_time + time.time()\n",
    "                return\n",
    "\n",
    "            # Si la baguette est detectee depuis assez longtemps, le bouton\n",
    "            # passe en mode actif est la case est coloriee\n",
    "            if flags[nb] == ' ' and time_flag[nb] < time.time():\n",
    "                flags[nb] = 1\n",
    "                time_flag[nb] = waiting_time + time.time()\n",
    "                liste[n] = Colorize(liste[n], BLUE, \"FULL\")\n",
    "                return\n",
    "\n",
    "        # Si la baguette n'est pas detectee, le bouton passe en mode inactif\n",
    "        if regions_blue[n] == False:\n",
    "            flags[nb] = 0\n",
    "            return"
   ]
  },
  {
   "cell_type": "markdown",
   "metadata": {},
   "source": [
    "<img src='https://raw.githubusercontent.com/Bugnon/minecraft/master/Magic_Wand/Pictures/Etat_boutons.png' style=\"float:right;width:150px;\">\n",
    "Comme promis dans le code voici une illustration de cette fonction. On voit le \"statut\" d'un des boutons au fil et à mesure que le temps s'écoule.\n",
    "\n",
    "\n",
    "\n",
    "On peut séparer la détection en plusieurs étapes:\n",
    "\n",
    "- en a, la baguette n'est pas détectée, il ne se passe donc rien.\n",
    "\n",
    "\n",
    "- en b, la baguette est détectée, c'est la que la case a un cadre colorié, il ne reste plus qu'à attendre le temps de détection avant exécution choisi au préalable\n",
    "\n",
    "\n",
    "- en c, la baguette est toujours détecté et le temps d'attente a été atteint. le \"bouton\" est comme appuyé, les fonctions sont executées\n",
    "\n",
    "\n",
    "- en d, maintenant que les fonctions on été exécutée, le \"bouton\" passe en mode attente après execution (pour pas que les fonctions s'executent trop rapidement à la suite.\n",
    "\n",
    "\n",
    "- en e, la baguette n'est plus la et le temps d'attente après execution est révolu"
   ]
  },
  {
   "cell_type": "markdown",
   "metadata": {},
   "source": [
    "Maintenant revenons à l'étape c, quand la valeur vaut 1 voila ce qui s'execute:"
   ]
  },
  {
   "cell_type": "code",
   "execution_count": null,
   "metadata": {},
   "outputs": [],
   "source": [
    "def exefct():\n",
    "    \"\"\"Pour chaque bouton, effectue des changements s'il est actif (=1)\n",
    "en changement les parametres 1 et 2 (materiaux et taille)\n",
    "Peut aussi changer start (pour arreter le programme)\n",
    "De plus il execute les fonctions qui execute les fonctions (fctMyfonction)\n",
    "De plus, c'est cette fonction qui mets les messages dans minecraft:\n",
    "    - You need to choose a function!\n",
    "    - Working, wait...\n",
    "    - Work done!\n",
    "\"\"\"\n",
    "    global mc_funct, param1, param2, start\n",
    "\n",
    "    if flags['button1'] == True:  # 1 = True = beeing pressed\n",
    "        param1 = True\n",
    "        mc.postToChat(\"Size: Big\")"
   ]
  },
  {
   "cell_type": "markdown",
   "metadata": {},
   "source": [
    "Maintenant, voici la fonction qui s'occupe de la détection des couleurs: (`redmin`et `bluemin`sont définis au préalable)"
   ]
  },
  {
   "cell_type": "code",
   "execution_count": null,
   "metadata": {},
   "outputs": [],
   "source": [
    "def detect_colour(img, colour):\n",
    "    \"\"\" Detection des couleurs qui sont entre lower et upper dans chaque case\n",
    "qui est entre lower et upper (in the range [lower, upper]).\n",
    "\n",
    "enregistre en True/False dans regions_red ou regions_blue les cases ou se\n",
    "trouve la couleur voulue\n",
    "\n",
    "img: image\n",
    "couleur: \"RED\"/\"BLUE\"\n",
    "\"\"\"\n",
    "    if colour == \"RED\":\n",
    "        lower = lowerR\n",
    "        upper = upperR\n",
    "    if colour == \"BLUE\":\n",
    "        lower = lowerB\n",
    "        upper = upperB\n",
    "\n",
    "    lower = np.array(lower, dtype=\"uint8\")\n",
    "    upper = np.array(upper, dtype=\"uint8\")\n",
    "\n",
    "    # cree un mask qui enleve tout ce qui n'est pas entre lower et upper\n",
    "    mask = cv2.inRange(img, lower, upper)\n",
    "\n",
    "    # Enlever les '#' pour avoir un apercu des operations\n",
    "#    output = cv2.bitwise_and(img, img, mask=mask)\n",
    "#    cv2.imshow(\"Mask\", mask)\n",
    "#    cv2.imshow(\"Detect color\", np.hstack([img, output]))\n",
    "\n",
    "    # Separation de l'image en partie (dim= LU, LD, Mid, RU, RD) => liste\n",
    "    LUm = mask[0:120, 0:120]\n",
    "    LDm = mask[120:240, 0:120]\n",
    "    Midm = mask[0:240, 120:200]\n",
    "    RUm = mask[0:120, 240:]\n",
    "    RDm = mask[120:240, 240:]\n",
    "    regions = [LUm, LDm, Midm, RUm, RDm]\n",
    "\n",
    "    # enregistre (True/False) dans les listes predifinies en 2.4 afin qu'on\n",
    "    # puisse utiliser pour executer les fonction dans 'button_fct_pressed(n)'\n",
    "    if colour == \"RED\":\n",
    "        for i in range(5):\n",
    "            regions_red[i] = np.average(regions[i]) > redmin\n",
    "        # print(regions_red)  # si on veut voir la liste\n",
    "    if colour == \"BLUE\":\n",
    "        for i in range(5):\n",
    "            regions_blue[i] = np.average(regions[i]) > bluemin\n",
    "        # print(regions_blue)  # si on veut voir la liste"
   ]
  },
  {
   "cell_type": "markdown",
   "metadata": {},
   "source": [
    "Et celle permettant de colorier les cases:"
   ]
  },
  {
   "cell_type": "code",
   "execution_count": null,
   "metadata": {},
   "outputs": [],
   "source": [
    "def Colorize(img, colour, FULL=5):\n",
    "    \"\"\"Colorie le cadre de l'image (img) avec la couleur (colour).\n",
    "Taille du cadre = FULL (en px).\n",
    "Si FULL est egal a -1 ou \"FULL\" l'image est completement coloriee.\n",
    "\n",
    "img: image\n",
    "colour: tuple\n",
    "Full: int ou \"FULL\"\n",
    "\"\"\"\n",
    "    a = img.shape[1]\n",
    "    b = img.shape[0]\n",
    "    if FULL == \"FULL\":\n",
    "        FULL = -1\n",
    "    return cv2.rectangle(img, (0, 0), (a, b), colour, FULL)"
   ]
  },
  {
   "cell_type": "markdown",
   "metadata": {},
   "source": [
    "Pour arreter le programme, on a deux possibilité, soit on appuie sur la touche **`q`** du clavier, soit on mets la baguette coté rouge sur Mid:"
   ]
  },
  {
   "cell_type": "code",
   "execution_count": null,
   "metadata": {},
   "outputs": [],
   "source": [
    "if cv2.waitKey(1) & 0xFF == ord(\"q\"):\n",
    "        break\n",
    "\n",
    "if start == -1:\n",
    "        break"
   ]
  },
  {
   "cell_type": "markdown",
   "metadata": {},
   "source": [
    "## Conclusion\n",
    "Ce projet est une bonne conclusion de l'année, Nous avons pu utiliser tous les domaines que nous avons étudié durant l'année (Markdown, python, Jupyter notebook, openCV, etc.) Ça a été un plaisir de bricoler et bidouiller afin d'arriver à nos fins, nous sommes très satisfait et heureux du résultat; nous espérons que vous aussi. Nous tenons à remercier Monsieur Holzer pour son cours durant l'année et son temps d'investissement consacré pour nous.\n",
    "\n",
    "\n",
    "Autres informations sur le projet: \n",
    "Le code des fonctions de constructions: https://github.com/Bugnon/minecraft/tree/master/Magic_Wand/Functions\n",
    "Le code qui gère tout: https://github.com/Bugnon/minecraft/blob/master/Magic_Wand/Magic_wand.py\n",
    "La participation au concours Bugnplay:http://bugnplay.ch/pms/fr/minisite/5297/"
   ]
  }
 ],
 "metadata": {
  "kernelspec": {
   "display_name": "Python 3",
   "language": "python",
   "name": "python3"
  },
  "language_info": {
   "codemirror_mode": {
    "name": "ipython",
    "version": 3
   },
   "file_extension": ".py",
   "mimetype": "text/x-python",
   "name": "python",
   "nbconvert_exporter": "python",
   "pygments_lexer": "ipython3",
   "version": "3.6.2"
  }
 },
 "nbformat": 4,
 "nbformat_minor": 2
}
