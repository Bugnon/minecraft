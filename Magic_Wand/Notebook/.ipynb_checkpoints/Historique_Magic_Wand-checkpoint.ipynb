{
 "cells": [
  {
   "cell_type": "markdown",
   "metadata": {},
   "source": [
    "## Historique"
   ]
  },
  {
   "cell_type": "markdown",
   "metadata": {},
   "source": [
    "<img src='https://raw.githubusercontent.com/Bugnon/minecraft/master/Magic_Wand/Pictures/Magic_Wand_Idees.jpeg' style=\"float:right;width:400px;\">Ce projet a débuté pendant le mois de décembre 2017. Il s'agissait alors du premier des deux projets que nous devions créer pendant le second semestre de l'année scolaire. Le but premier du projet était de lier Mincraft.pi au Raspberry.pi en utilisant le langage python et un support physique. Monsieur Holzer a alors suggéré une baguette magique par exemple et la base du projet a germé de cette proposition. Le projet Minecrabracadabra était né.<br/>\n",
    "La première idée fut donc d'utiliser une baguette et une boite afin d'utiliser des fonctions que nous allions créer avec python. Parmi ces premières idées de fonctions, la mine la maison et le pont furent conservées bien que les fonctions aient bien changées depuis leur première création. Ci-contre le premier croquis de la boite et les idées de fonctions a utiliser:\n",
    "\n",
    "Parmi les 2 idées de baguette possibles:\n",
    "* La première consitait en une simple baguette qui poussait un bout de métal accroché à un ressort afin de laisser le courant électrique circuler et faire office de bouton avec le GPIO.\n",
    "\n",
    "* La seconde idée, celle qui fut conservée était une baguette avec un embout métallique qui permet au courant électrique de circuler. Cette idée fut retenue car elle était bien plus simple à mettre en place.\n",
    "\n",
    "Voici donc le premier prototype de baguette crée, elle est plus que rudimentaire et bien trop fragile pour être utilisée mais elle a servi a illustrer la base de notre projet:\n",
    "<img src='https://raw.githubusercontent.com/Bugnon/minecraft/master/Magic_Wand/Pictures/Baguette_1er_essai.jpeg' style=\"float:center;width:200px;\">"
   ]
  },
  {
   "cell_type": "markdown",
   "metadata": {},
   "source": [
    "Rapidement un deuxième prototype fut créé (à gauche), il devait aussi inclure des boutons sur la baguette elle-même, afin de séléctionner des paramètre et lancer la fonction avec le courant electrique.\n",
    "\n",
    "Les croix rouges représentent l'emplacement des futurs boutons.\n",
    "\n",
    "Puis cette meme baguette solidifiée et avec un embout en métal: (à droite)"
   ]
  },
  {
   "cell_type": "markdown",
   "metadata": {},
   "source": [
    "<img src='https://raw.githubusercontent.com/Bugnon/minecraft/master/Magic_Wand/Pictures/Baguette_2nd_essai.jpeg' style=\"float:left;width:280px;\"><img src='https://raw.githubusercontent.com/Bugnon/minecraft/master/Magic_Wand/Pictures/Baguette_metal.jpeg' style=\"float:right;width:280px;\">"
   ]
  },
  {
   "cell_type": "markdown",
   "metadata": {},
   "source": [
    "De plus la boite prenait forme elle aussi et bien que nous n'avions pas encore choisi quelle possibilités utliser pour faire passer un courant la boite était construite:<img src='https://raw.githubusercontent.com/Bugnon/minecraft/master/Magic_Wand/Pictures/Boite_Debut.PNG' style=\"float:center;width:280px;\">"
   ]
  },
  {
   "cell_type": "markdown",
   "metadata": {},
   "source": [
    "Pendant ce temps nous travaillions aussi sur l'interface dans Minecraft.pi que nous allions utliser pour le projet. Bien qu'elle ne fut pas conservée il est intéressant de voir une première ébauche.\n",
    "<img src='https://raw.githubusercontent.com/Bugnon/minecraft/master/Magic_Wand/Pictures/Interface_essai.jpeg' style=\"float:center;width:700px;\">"
   ]
  },
  {
   "cell_type": "markdown",
   "metadata": {},
   "source": [
    "Afin de relier les boutons au GPIO du Raspberry.pi nous avions pensé utiliser de long fils électriques détachables afin de ne pas trop nous encombrer mais Monsieur Holzer nous a demandé d'intégrer les connaissances que nous avions acquises sur OpenCV dans notre projet. Ce fut une bonne idée. Nous devions donc utiliser une caméra dans le projet et le prototype de baguette métallique fut abandonné."
   ]
  },
  {
   "cell_type": "markdown",
   "metadata": {},
   "source": [
    "Nous avons donc décider de détecter un objet de couleur accroché à une baguette afin de conserver l'idée de base du projet tout en utilisant une caméra et OpenCV. Voici la baguette en question dont l'une des face est rouge et l'autre bleu:\n",
    "<img src='https://raw.githubusercontent.com/Bugnon/minecraft/master/Magic_Wand/Pictures/Baguette_Rouge_debut.jpeg' style=\"float:center;width:300px;\">"
   ]
  },
  {
   "cell_type": "markdown",
   "metadata": {},
   "source": [
    "Plus besoin de percer la boite afin d'installer quelque chose permettant un courant éléctrique nous avons donc pu entamer le début de la décoration de la boite et nous avons réfléchi à comment installer le Raspberry.pi et la caméra dans cette boite. Finalement nous avons utilisé des bande velcro pour accrocher le Raspberry.pi et la caméra."
   ]
  },
  {
   "cell_type": "markdown",
   "metadata": {},
   "source": [
    "<img src='https://raw.githubusercontent.com/Bugnon/minecraft/master/Magic_Wand/Pictures/Boite_avant_trou.jpeg' style=\"float:center;width:300px;\">"
   ]
  },
  {
   "cell_type": "markdown",
   "metadata": {},
   "source": [
    "Et voici une première idée de fixation du Raspberry.pi. Malheureusement le cable HDMI posait problème lors de la fermeture de la boite:"
   ]
  },
  {
   "cell_type": "markdown",
   "metadata": {},
   "source": [
    "<img src='https://raw.githubusercontent.com/Bugnon/minecraft/master/Magic_Wand/Pictures/Probleme_cables.jpeg' style=\"float:center;width:700px;\">"
   ]
  },
  {
   "cell_type": "markdown",
   "metadata": {},
   "source": [
    "Nous avons donc percé la boite afin de permettre à tous les cables de rentrer sans problème et nous avons fixé avec de la  bande adhésive la caméra sur la partie supérieure de la boite. Le RaspberryPi est lui aussi scotché à la boite. Les vélcros sont maintenant que preuve d'évolution."
   ]
  },
  {
   "cell_type": "markdown",
   "metadata": {},
   "source": [
    "<img src='https://raw.githubusercontent.com/Bugnon/minecraft/master/Magic_Wand/Pictures/Boite_actuel.jpeg' style=\"float:center;width:600px;\">"
   ]
  },
  {
   "cell_type": "markdown",
   "metadata": {},
   "source": [
    "Quant aux fonctions elles ont toutes évolué petit à petit sans de grand changement à l'exception de la maison qui est passée par de nombreux essais."
   ]
  },
  {
   "cell_type": "markdown",
   "metadata": {},
   "source": [
    "![Maison1](https://raw.githubusercontent.com/Bugnon/minecraft/master/Magic_Wand/Pictures/House_1er_essai.jpeg)"
   ]
  },
  {
   "cell_type": "markdown",
   "metadata": {},
   "source": [
    "![Maison2](https://raw.githubusercontent.com/Bugnon/minecraft/master/Magic_Wand/Pictures/House_2juin.jpeg)"
   ]
  },
  {
   "cell_type": "markdown",
   "metadata": {},
   "source": [
    "![Maison3](https://raw.githubusercontent.com/Bugnon/minecraft/master/Magic_Wand/Pictures/House_final.jpeg)"
   ]
  }
 ],
 "metadata": {
  "kernelspec": {
   "display_name": "Python 3",
   "language": "python",
   "name": "python3"
  },
  "language_info": {
   "codemirror_mode": {
    "name": "ipython",
    "version": 3
   },
   "file_extension": ".py",
   "mimetype": "text/x-python",
   "name": "python",
   "nbconvert_exporter": "python",
   "pygments_lexer": "ipython3",
   "version": "3.6.2"
  }
 },
 "nbformat": 4,
 "nbformat_minor": 2
}
