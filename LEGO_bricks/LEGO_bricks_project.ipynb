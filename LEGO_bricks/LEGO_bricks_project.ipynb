{
 "cells": [
  {
   "cell_type": "markdown",
   "metadata": {},
   "source": [
    "# LEGO Bricks\n",
    "Ce projet a pour but de transposer une construction LEGO dans minecraft. Pour cela, nous avons créé un armature sur laquel il y a une raspberry pi, ainsi qu'une caméra au dessus d'un emplacement où l'on construit. Ainsi qu'un bouton qui sert à faire savoir quand l'on a construit un étage et aussi quand l'on recommence une autre construction.\n",
    "\n",
    "IMAGE DE LA STRUCTURE\n",
    "\n",
    "Il y a un programme qui tourne en boucle sur la raspberry pi et qui utilise la caméra pour que, lorsque le bouton est appuyé, elle prenne une photo, qui est ensuite analysée et le programme en déduit les blocs qu'il doit placer dans le jeu."
   ]
  },
  {
   "cell_type": "markdown",
   "metadata": {},
   "source": [
    "## Coeur du fonctionnement"
   ]
  },
  {
   "cell_type": "markdown",
   "metadata": {},
   "source": [
    "L'analyse d'image que l'on fait est assez primaire, le programme observe certains points qu'il définit, un par emplacement de LEGO, et si les couleurs différent trop, il part du principe que le bloc a changé. Voici par exemple les points que le programme étudie à chaque pression du bouton :\n",
    "\n",
    "IMAGE DU PREPROCESSING"
   ]
  },
  {
   "cell_type": "code",
   "execution_count": 2,
   "metadata": {},
   "outputs": [],
   "source": [
    "def checkDif(img1, img2, x, y, dif2, tolerence=70):\n",
    "    pos1 = int(img1[x, y])\n",
    "    pos2 = int(img2[x, y])\n",
    "    dif = pos1 - pos2 - dif2\n",
    "    if dif < 0:\n",
    "        dif = -dif\n",
    "    return dif >= tolerence"
   ]
  },
  {
   "cell_type": "code",
   "execution_count": 3,
   "metadata": {},
   "outputs": [
    {
     "ename": "NameError",
     "evalue": "name 'cv2' is not defined",
     "output_type": "error",
     "traceback": [
      "\u001b[1;31m---------------------------------------------------------------------------\u001b[0m",
      "\u001b[1;31mNameError\u001b[0m                                 Traceback (most recent call last)",
      "\u001b[1;32m<ipython-input-3-e93cbd09d872>\u001b[0m in \u001b[0;36m<module>\u001b[1;34m()\u001b[0m\n\u001b[1;32m----> 1\u001b[1;33m \u001b[1;33m(\u001b[0m\u001b[0mB1\u001b[0m\u001b[1;33m,\u001b[0m \u001b[0mG1\u001b[0m\u001b[1;33m,\u001b[0m \u001b[0mR1\u001b[0m\u001b[1;33m)\u001b[0m \u001b[1;33m=\u001b[0m \u001b[0mcv2\u001b[0m\u001b[1;33m.\u001b[0m\u001b[0msplit\u001b[0m\u001b[1;33m(\u001b[0m\u001b[0mlast\u001b[0m\u001b[1;33m)\u001b[0m\u001b[1;33m\u001b[0m\u001b[0m\n\u001b[0m\u001b[0;32m      2\u001b[0m \u001b[1;33m(\u001b[0m\u001b[0mB2\u001b[0m\u001b[1;33m,\u001b[0m \u001b[0mG2\u001b[0m\u001b[1;33m,\u001b[0m \u001b[0mR2\u001b[0m\u001b[1;33m)\u001b[0m \u001b[1;33m=\u001b[0m \u001b[0mcv2\u001b[0m\u001b[1;33m.\u001b[0m\u001b[0msplit\u001b[0m\u001b[1;33m(\u001b[0m\u001b[0mnew\u001b[0m\u001b[1;33m)\u001b[0m\u001b[1;33m\u001b[0m\u001b[0m\n\u001b[0;32m      3\u001b[0m \u001b[1;33m\u001b[0m\u001b[0m\n\u001b[0;32m      4\u001b[0m \u001b[1;32mfor\u001b[0m \u001b[1;33m(\u001b[0m\u001b[0mmcx\u001b[0m\u001b[1;33m,\u001b[0m \u001b[0mmcy\u001b[0m\u001b[1;33m,\u001b[0m \u001b[0mx\u001b[0m\u001b[1;33m,\u001b[0m \u001b[0my\u001b[0m\u001b[1;33m)\u001b[0m \u001b[1;32min\u001b[0m \u001b[0mpositions\u001b[0m\u001b[1;33m:\u001b[0m\u001b[1;33m\u001b[0m\u001b[0m\n\u001b[0;32m      5\u001b[0m     \u001b[1;32mif\u001b[0m \u001b[1;33m(\u001b[0m\u001b[0mcheckDif\u001b[0m\u001b[1;33m(\u001b[0m\u001b[0mB1\u001b[0m\u001b[1;33m,\u001b[0m \u001b[0mB2\u001b[0m\u001b[1;33m,\u001b[0m \u001b[0mx\u001b[0m\u001b[1;33m,\u001b[0m \u001b[0my\u001b[0m\u001b[1;33m,\u001b[0m \u001b[0mb\u001b[0m\u001b[1;33m)\u001b[0m \u001b[1;32mor\u001b[0m \u001b[0mcheckDif\u001b[0m\u001b[1;33m(\u001b[0m\u001b[0mG1\u001b[0m\u001b[1;33m,\u001b[0m \u001b[0mG2\u001b[0m\u001b[1;33m,\u001b[0m \u001b[0mx\u001b[0m\u001b[1;33m,\u001b[0m \u001b[0my\u001b[0m\u001b[1;33m,\u001b[0m \u001b[0mg\u001b[0m\u001b[1;33m)\u001b[0m \u001b[1;32mor\u001b[0m \u001b[0mcheckDif\u001b[0m\u001b[1;33m(\u001b[0m\u001b[0mR1\u001b[0m\u001b[1;33m,\u001b[0m \u001b[0mR2\u001b[0m\u001b[1;33m,\u001b[0m \u001b[0mx\u001b[0m\u001b[1;33m,\u001b[0m \u001b[0my\u001b[0m\u001b[1;33m,\u001b[0m \u001b[0mr\u001b[0m\u001b[1;33m)\u001b[0m\u001b[1;33m)\u001b[0m\u001b[1;33m:\u001b[0m\u001b[1;33m\u001b[0m\u001b[0m\n",
      "\u001b[1;31mNameError\u001b[0m: name 'cv2' is not defined"
     ]
    }
   ],
   "source": [
    "(B1, G1, R1) = cv2.split(last)\n",
    "(B2, G2, R2) = cv2.split(new)\n",
    "    \n",
    "for (mcx, mcy, x, y) in positions:\n",
    "    if (checkDif(B1, B2, x, y, b) or checkDif(G1, G2, x, y, g) or checkDif(R1, R2, x, y, r)):\n",
    "            placeBlock(mcx, mcy)"
   ]
  },
  {
   "cell_type": "markdown",
   "metadata": {},
   "source": [
    "Ce qui est plus intéressant, c'est la manière que l'on a de trouver les positions et les modification nécessaire à l'image pour qu'elle rentre dans ce carré.\n",
    "Tout cela se passe pendant l'initialisation :\n"
   ]
  },
  {
   "cell_type": "code",
   "execution_count": 4,
   "metadata": {},
   "outputs": [
    {
     "ename": "NameError",
     "evalue": "name 'init_frame' is not defined",
     "output_type": "error",
     "traceback": [
      "\u001b[1;31m---------------------------------------------------------------------------\u001b[0m",
      "\u001b[1;31mNameError\u001b[0m                                 Traceback (most recent call last)",
      "\u001b[1;32m<ipython-input-4-3e51922efefd>\u001b[0m in \u001b[0;36m<module>\u001b[1;34m()\u001b[0m\n\u001b[1;32m----> 1\u001b[1;33m \u001b[0mframeData\u001b[0m \u001b[1;33m=\u001b[0m \u001b[0minit_frame\u001b[0m\u001b[1;33m(\u001b[0m\u001b[1;33m-\u001b[0m\u001b[1;36m2\u001b[0m\u001b[1;33m,\u001b[0m \u001b[1;33m(\u001b[0m\u001b[1;36m350\u001b[0m\u001b[1;33m,\u001b[0m \u001b[1;36m292\u001b[0m\u001b[1;33m)\u001b[0m\u001b[1;33m,\u001b[0m \u001b[1;36m95\u001b[0m\u001b[1;33m)\u001b[0m\u001b[1;33m\u001b[0m\u001b[0m\n\u001b[0m\u001b[0;32m      2\u001b[0m \u001b[0mpositions\u001b[0m \u001b[1;33m=\u001b[0m \u001b[0mbuildPositions\u001b[0m\u001b[1;33m(\u001b[0m\u001b[1;36m8\u001b[0m\u001b[1;33m,\u001b[0m \u001b[1;36m16\u001b[0m\u001b[1;33m,\u001b[0m \u001b[1;36m150\u001b[0m\u001b[1;33m)\u001b[0m\u001b[1;33m\u001b[0m\u001b[0m\n",
      "\u001b[1;31mNameError\u001b[0m: name 'init_frame' is not defined"
     ]
    }
   ],
   "source": [
    "frameData = init_frame(-2, (350, 292), 95)\n",
    "positions = buildPositions(8, 16, 150)"
   ]
  },
  {
   "cell_type": "markdown",
   "metadata": {},
   "source": []
  }
 ],
 "metadata": {
  "kernelspec": {
   "display_name": "Python 2",
   "language": "python",
   "name": "python2"
  },
  "language_info": {
   "codemirror_mode": {
    "name": "ipython",
    "version": 2
   },
   "file_extension": ".py",
   "mimetype": "text/x-python",
   "name": "python",
   "nbconvert_exporter": "python",
   "pygments_lexer": "ipython2",
   "version": "2.7.14"
  }
 },
 "nbformat": 4,
 "nbformat_minor": 2
}
