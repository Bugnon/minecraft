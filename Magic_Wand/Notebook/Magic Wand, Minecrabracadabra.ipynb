{
 "cells": [
  {
   "cell_type": "markdown",
   "metadata": {},
   "source": [
    "# Magic Wand, Minecrabracadabra"
   ]
  },
  {
   "cell_type": "markdown",
   "metadata": {},
   "source": [
    "_Auteurs: **Albert and Ludovic**_\n",
    "\n",
    "_Affiliation: **Gymnase du Bugnon**_\n",
    "\n",
    "_Année: **2017-2018**_\n",
    "\n",
    "_Classe: **OC-Informatique**_"
   ]
  },
  {
   "cell_type": "markdown",
   "metadata": {},
   "source": [
    "Description du projet: ACPT"
   ]
  },
  {
   "cell_type": "markdown",
   "metadata": {},
   "source": [
    "Importations des modules nécessaires"
   ]
  },
  {
   "cell_type": "code",
   "execution_count": null,
   "metadata": {},
   "outputs": [],
   "source": [
    "# Le module permettant d'accéder à minecraft-pi\n",
    "from  mcpi.minecraft import Minecraft\n",
    "\n",
    "# Les modules permettant d'utiliser la caméra\n",
    "from picamera.array import PiRGBArray\n",
    "from picamera import PiCamera\n",
    "\n",
    "# Les modules permettant de faire le traitement de l'image\n",
    "import cv2\n",
    "import numpy as np\n",
    "\n",
    "# Le  module permettant d'utiliser le temps\n",
    "import time\n",
    "\n",
    "# Le module permettant d'executer une fonction dans un terminal linux\n",
    "import os"
   ]
  },
  {
   "cell_type": "code",
   "execution_count": null,
   "metadata": {},
   "outputs": [],
   "source": []
  }
 ],
 "metadata": {
  "kernelspec": {
   "display_name": "Python 3",
   "language": "python",
   "name": "python3"
  },
  "language_info": {
   "codemirror_mode": {
    "name": "ipython",
    "version": 3
   },
   "file_extension": ".py",
   "mimetype": "text/x-python",
   "name": "python",
   "nbconvert_exporter": "python",
   "pygments_lexer": "ipython3",
   "version": "3.6.2"
  }
 },
 "nbformat": 4,
 "nbformat_minor": 2
}
