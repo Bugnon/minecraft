{
 "cells": [
  {
   "cell_type": "markdown",
   "metadata": {},
   "source": [
    "## Les fonctions"
   ]
  },
  {
   "cell_type": "markdown",
   "metadata": {},
   "source": [
    "### Bridge.py"
   ]
  },
  {
   "cell_type": "markdown",
   "metadata": {},
   "source": [
    "`bridge(x, y, z, blocktype)` est une fonction qui crée un pont dans la direction nord du joueur.  \n",
    "Ce pont peut être en bois ou en pierre selon l'argument choisi.  \n",
    "La longueur de ce pont n'est pas réglable car la longueur du pont est calculée selon le nombre de blocs vides au nord du joueur.  \n",
    "De plus la longueur minimum du pont est de 5 blocs."
   ]
  },
  {
   "cell_type": "markdown",
   "metadata": {},
   "source": [
    "La longueur du pont est définie par la fonction `lengthbridge(x, y, z)` qui appelle la fonction `isvoid(x, y, z)` afin de calculer le nombre de blocs vides au Nord du joueur."
   ]
  },
  {
   "cell_type": "markdown",
   "metadata": {},
   "source": [
    "La fonction `bridge(x, y, z, blocktype)` utilise quant à elle les fonctions  \n",
    "`first_stage(x, y, z, l, stairs, block)` et `second_stage(x, y, z, l, stairs, block)` afin de rendre le code plus lisible."
   ]
  },
  {
   "cell_type": "markdown",
   "metadata": {},
   "source": [
    "Le matériau chosi implique un id de blocs pour les escaliers et les blocs:\n"
   ]
  },
  {
   "cell_type": "code",
   "execution_count": null,
   "metadata": {},
   "outputs": [],
   "source": [
    "if blocktype is \"COBBLESTONE\":\n",
    "    stairs = 67\n",
    "    block = 4\n",
    "if blocktype is \"WOOD\":\n",
    "    stairs = 53\n",
    "    block = 5"
   ]
  },
  {
   "cell_type": "markdown",
   "metadata": {},
   "source": [
    "Le point de départ du pont est trouvé par la partie ci-dessous de la fonction `bridge(x, y, z, blocktype)`:"
   ]
  },
  {
   "cell_type": "code",
   "execution_count": null,
   "metadata": {},
   "outputs": [],
   "source": [
    "while True:\n",
    "    if isvoid(x, y-1, z-i) is True or isvoid(x+1, y-1, z-i) is True:\n",
    "        xs, ys, zs = x, y-1, z-i\n",
    "        break\n",
    "    else:\n",
    "        i += 1"
   ]
  },
  {
   "cell_type": "markdown",
   "metadata": {},
   "source": [
    "![Bridge](https://raw.githubusercontent.com/Bugnon/minecraft/master/Magic_Wand/Pictures/Bridge.jpeg)"
   ]
  },
  {
   "cell_type": "markdown",
   "metadata": {},
   "source": [
    "### House.py"
   ]
  },
  {
   "cell_type": "markdown",
   "metadata": {},
   "source": [
    "`house(x, y, z, material, n)` est une fonction qui crée une maison autour du joueur avec une porte orientée vers le Nord.  \n",
    "Deux types de matériaux sont disponible, la pierre et le bois.  \n",
    "De plus un espace vide de deux blocs est créé autour de la maison et un bloc de fondation se trouve sous la maison."
   ]
  },
  {
   "cell_type": "markdown",
   "metadata": {},
   "source": [
    "Tout comme Bridge.py le choix de matériaux implique des id de blocs différents:"
   ]
  },
  {
   "cell_type": "code",
   "execution_count": null,
   "metadata": {},
   "outputs": [],
   "source": [
    "if material == \"WOOD\":\n",
    "    M1 = 5\n",
    "    M2 = 17\n",
    "    stairs = 53\n",
    "if material == \"COBBLESTONE\":\n",
    "    M1 = 98\n",
    "    M2 = 4\n",
    "    stairs = 109"
   ]
  },
  {
   "cell_type": "markdown",
   "metadata": {},
   "source": [
    "afin de créer un bloc vide avant de construire la maison `house(x, y, z, material, n)` utilise `clear_space(x, y, z, range)`"
   ]
  },
  {
   "cell_type": "markdown",
   "metadata": {},
   "source": [
    "![House](https://raw.githubusercontent.com/Bugnon/minecraft/master/Magic_Wand/Pictures/House_final.jpeg )"
   ]
  },
  {
   "cell_type": "markdown",
   "metadata": {},
   "source": [
    "### Midas.py"
   ]
  },
  {
   "cell_type": "markdown",
   "metadata": {},
   "source": [
    "`Midascube(x, y, z, size, blockid)` est une fonction qui transforme les blocs non-vide autour du joueur.  \n",
    "Les blocs transformés peuvent etre de n'importe quel matériau mais la taille du bloc autour du joueur doit etre impaire.  \n",
    "La transformation se fait colonne apres colonne donc la fonction prend relativement beaucoup de temps."
   ]
  },
  {
   "cell_type": "markdown",
   "metadata": {},
   "source": [
    "La fonction `Midascube(x, y, z, size, blockid)` appelle `Midassquare(x, y, z, size, blockid)` qui appelle  \n",
    "`Midasline(x, y, z, size, blockid)` qui appelle `isAir(x, y, z)` afin de transformer selon les blocs non-vides"
   ]
  },
  {
   "cell_type": "markdown",
   "metadata": {},
   "source": [
    "![Midas](https://raw.githubusercontent.com/Bugnon/minecraft/master/Magic_Wand/Pictures/Midas.jpg)"
   ]
  },
  {
   "cell_type": "markdown",
   "metadata": {},
   "source": [
    "### Mine.py"
   ]
  },
  {
   "cell_type": "markdown",
   "metadata": {},
   "source": [
    "`Mine(x, y, z, direction, size)` est une fonction qui cree une mine en escalier rectiligne vers le Nord ou le Sud.  \n",
    "Des torches sont posées dans la mine à intervalle de 5 blocs."
   ]
  },
  {
   "cell_type": "markdown",
   "metadata": {},
   "source": [
    "La fonction `time.sleep()` est appelée par `Mine(x, y, z, direction, size)` afin d'imposer un délai et laisser d'éventuels blocs de sable ou de gravier tomber dans Minecraft.pi avant que la fonction ne vérifie si ces blocs sont tombés en appelant `isAirz(z, y)`."
   ]
  },
  {
   "cell_type": "markdown",
   "metadata": {},
   "source": [
    "![Mine](https://raw.githubusercontent.com/Bugnon/minecraft/master/Magic_Wand/Pictures/The_Mine.jpg)"
   ]
  }
 ],
 "metadata": {
  "kernelspec": {
   "display_name": "Python 3",
   "language": "python",
   "name": "python3"
  },
  "language_info": {
   "codemirror_mode": {
    "name": "ipython",
    "version": 3
   },
   "file_extension": ".py",
   "mimetype": "text/x-python",
   "name": "python",
   "nbconvert_exporter": "python",
   "pygments_lexer": "ipython3",
   "version": "3.6.4"
  }
 },
 "nbformat": 4,
 "nbformat_minor": 2
}
