{
 "cells": [
  {
   "cell_type": "markdown",
   "metadata": {},
   "source": [
    "# Entrez physiquement dans le monde de Minecraft!"
   ]
  },
  {
   "cell_type": "markdown",
   "metadata": {},
   "source": [
    "Comme projet de l'année en informatique, nous avons décider d'essayer de créer une **réalité virtuelle dans Minecraft** à l'aide d'un **Raspberry Pie**. Après de nombreuses heures de travailles, nous avons réussi à créer, avec des moyens très simples à créer une façon d'**incarner réeelement le personnage du monde de Minecraft** et de le faire bouger dans le jeu en bougeant dans la réalité. \n",
    "\n",
    "Nous avons présenté ce projet au **concours Bugnplay**, plus grand concours d'informatique de Suisse, ou nous avons été invité à présenter notre projet lors de la **finale du concours**. Le côté **original** et **amusant** de notre projet nous a permis d'y remporter deux prix, à savoir le **Best Classroom Project** et le **Senior Swiss Space Award**:"
   ]
  },
  {
   "cell_type": "markdown",
   "metadata": {},
   "source": [
    "### Description de l'installation"
   ]
  },
  {
   "cell_type": "markdown",
   "metadata": {},
   "source": [
    "Nous avons créer une installation plutôt complexe avec un Raspberry Pie, un écran, 2 souris, 1 batterie externe, 2 plaquette GPIO, 6 boutons, 3 mini-servos, une plaque en  bois à placer sous les pieds et surtout une armure que nous avons construit nous même."
   ]
  },
  {
   "cell_type": "markdown",
   "metadata": {},
   "source": [
    "#### Déplacement"
   ]
  },
  {
   "cell_type": "markdown",
   "metadata": {},
   "source": [
    "Pour ce qui est du déplacement du personnage, nous avons créer une plaque sur laquelle nous avons fixé deux boutons. Lorsque l'on marche sur cette plaque, le personnage marche dans le monde de Minecraft. Le principe est  le suivant: lorsque l'un des deux boutons est enfoncé, la touche `w` destinée à faire avancer le joueur est simulée. Lorsque l'on appuie sur rien ou sur les deux boutons, rien ne se passe."
   ]
  },
  {
   "cell_type": "markdown",
   "metadata": {},
   "source": [
    "#### Construire et casser des briques"
   ]
  },
  {
   "cell_type": "markdown",
   "metadata": {},
   "source": [
    "Afin de construire et casser des briques, nous avons posé sur notre armure 2 boutons au niveau des mains destinés à construire et à casser des briques. Chaque bouton est relié à un mini-servo qui sont placés de tel façon à cliquer respectivement sur le bouoton droit et le bouton gauche de la souris lorsque ils sont solicités. Lorsque l'on appuie sur ces boutons dans la réalité, les servos sont solicités de tel sorte à cliquer sur la souris pour créer ou détruire des bloques dans le monde de Minecraft. "
   ]
  },
  {
   "cell_type": "markdown",
   "metadata": {},
   "source": [
    "#### Rotation du personnage"
   ]
  },
  {
   "cell_type": "markdown",
   "metadata": {},
   "source": [
    "Pour pouvoir tourner dans le monde de Minecraft en tournant dans la réalité, nous avons placé 2 boutons au niveau de la tête de telle façon à lorsque nous tournons la tête à droite (resp. à gauche), le bouton droite (resp. gauche) est appuyé. Ces boutons provoquent une rotation à droite (resp. à gauche) d'un troisième mini-servo. Celui-ci est attaché à une plaque qui bouge sous une souris. La souris detecte ddonc un mouvement vers la droite(resp. gauche) et fait tourner le personnage vers la droite."
   ]
  },
  {
   "cell_type": "markdown",
   "metadata": {},
   "source": [
    "### Code"
   ]
  },
  {
   "cell_type": "markdown",
   "metadata": {},
   "source": [
    "#### Importation des modules nécessaires."
   ]
  },
  {
   "cell_type": "code",
   "execution_count": 1,
   "metadata": {},
   "outputs": [
    {
     "ename": "ImportError",
     "evalue": "No module named 'pyautogui'",
     "output_type": "error",
     "traceback": [
      "\u001b[0;31m---------------------------------------------------------------------------\u001b[0m",
      "\u001b[0;31mImportError\u001b[0m                               Traceback (most recent call last)",
      "\u001b[0;32m<ipython-input-1-4c997f1c2ff5>\u001b[0m in \u001b[0;36m<module>\u001b[0;34m()\u001b[0m\n\u001b[1;32m      1\u001b[0m \u001b[0;32mimport\u001b[0m \u001b[0mtime\u001b[0m\u001b[0;34m\u001b[0m\u001b[0m\n\u001b[0;32m----> 2\u001b[0;31m \u001b[0;32mimport\u001b[0m \u001b[0mpyautogui\u001b[0m\u001b[0;34m\u001b[0m\u001b[0m\n\u001b[0m\u001b[1;32m      3\u001b[0m \u001b[0;32mimport\u001b[0m \u001b[0mRPi\u001b[0m\u001b[0;34m.\u001b[0m\u001b[0mGPIO\u001b[0m \u001b[0;32mas\u001b[0m \u001b[0mgpio\u001b[0m\u001b[0;34m\u001b[0m\u001b[0m\n\u001b[1;32m      4\u001b[0m \u001b[0;32mfrom\u001b[0m \u001b[0mtime\u001b[0m \u001b[0;32mimport\u001b[0m \u001b[0msleep\u001b[0m\u001b[0;34m\u001b[0m\u001b[0m\n\u001b[1;32m      5\u001b[0m \u001b[0;32mfrom\u001b[0m \u001b[0mmcpi\u001b[0m\u001b[0;34m.\u001b[0m\u001b[0mminecraft\u001b[0m \u001b[0;32mimport\u001b[0m \u001b[0mMinecraft\u001b[0m\u001b[0;34m\u001b[0m\u001b[0m\n",
      "\u001b[0;31mImportError\u001b[0m: No module named 'pyautogui'"
     ]
    }
   ],
   "source": [
    "import time\n",
    "import pyautogui\n",
    "import RPi.GPIO as gpio\n",
    "from time import sleep\n",
    "from mcpi.minecraft import Minecraft"
   ]
  },
  {
   "cell_type": "markdown",
   "metadata": {},
   "source": [
    "#### Définition des boutons sur le GPIO"
   ]
  },
  {
   "cell_type": "code",
   "execution_count": 2,
   "metadata": {},
   "outputs": [],
   "source": [
    "# Boutons pour avancer (plaque des pieds)\n",
    "buttonL = 14\n",
    "buttonR = 15\n",
    "\n",
    "# Boutons pour créer et casser brique\n",
    "buttonA = 23   # clique gauche souris, connecter à pwmL\n",
    "buttonB = 24   # clique droit souris, connecter à pwmR\n",
    "\n",
    "# Boutons pour la rotation du personnage, connectés à pwm\n",
    "buttonC = 20\n",
    "buttonD = 21"
   ]
  },
  {
   "cell_type": "markdown",
   "metadata": {},
   "source": [
    "#### Position du joueur sur Minecraft"
   ]
  },
  {
   "cell_type": "code",
   "execution_count": 3,
   "metadata": {},
   "outputs": [
    {
     "ename": "NameError",
     "evalue": "name 'Minecraft' is not defined",
     "output_type": "error",
     "traceback": [
      "\u001b[0;31m---------------------------------------------------------------------------\u001b[0m",
      "\u001b[0;31mNameError\u001b[0m                                 Traceback (most recent call last)",
      "\u001b[0;32m<ipython-input-3-9c95f066e716>\u001b[0m in \u001b[0;36m<module>\u001b[0;34m()\u001b[0m\n\u001b[0;32m----> 1\u001b[0;31m \u001b[0mmc\u001b[0m \u001b[0;34m=\u001b[0m \u001b[0mMinecraft\u001b[0m\u001b[0;34m.\u001b[0m\u001b[0mcreate\u001b[0m\u001b[0;34m(\u001b[0m\u001b[0;34m)\u001b[0m\u001b[0;34m\u001b[0m\u001b[0m\n\u001b[0m\u001b[1;32m      2\u001b[0m \u001b[0mx\u001b[0m\u001b[0;34m,\u001b[0m \u001b[0my\u001b[0m \u001b[0;34m,\u001b[0m\u001b[0mz\u001b[0m \u001b[0;34m=\u001b[0m \u001b[0mmc\u001b[0m\u001b[0;34m.\u001b[0m\u001b[0mplayer\u001b[0m\u001b[0;34m.\u001b[0m\u001b[0mgetPos\u001b[0m\u001b[0;34m(\u001b[0m\u001b[0;34m)\u001b[0m\u001b[0;34m\u001b[0m\u001b[0m\n",
      "\u001b[0;31mNameError\u001b[0m: name 'Minecraft' is not defined"
     ]
    }
   ],
   "source": [
    "mc = Minecraft.create()\n",
    "x, y ,z = mc.player.getPos()"
   ]
  },
  {
   "cell_type": "markdown",
   "metadata": {},
   "source": [
    "#### Définition des fonctions servant à créer le monde idéal"
   ]
  },
  {
   "cell_type": "code",
   "execution_count": 4,
   "metadata": {},
   "outputs": [],
   "source": [
    "def monde_plat():\n",
    "    \"\"\"Créer un monde plat pour faciliter déplacement.\"\"\"    \n",
    "    mc.setBlocks(x-300 ,y , z-300 ,x+300 ,y,z+300 ,2 )\n",
    "    mc.setBlocks(x-300, y+1, z-300, x+300, y+300, z+300, 0)\n",
    "     \n",
    "\n",
    "def arbre(a, b, c):\n",
    "    \"\"\"Créer un arbre basé sur la position actuelle du joueur.\"\"\"\n",
    "    mc.setBlocks(x+a, y, z+c ,x+a ,y+b,z+c ,17)\n",
    "    mc.setBlocks(x+(a-2), y+b , z+(c-2) ,x+(a+2) ,y+b,z+(c+2) ,18)\n",
    "    mc.setBlocks(x+(a-1) ,y+(b+1) , z+(c-1) ,x+(a+1) ,y+(b+1),z+(c+1) ,18)\n",
    "    mc.setBlocks(x+a ,y+(b+2) , z+c ,x+a ,y+(b+2),z+c ,18)\n",
    "\n",
    "def foret():\n",
    "    \"\"\"Crée une forêt avec 12 arbres.\"\"\"\n",
    "    arbre(6, 4, 4)\n",
    "    arbre(10, 3, 4)\n",
    "    arbre(20,4,8)\n",
    "    arbre(3,8,9)\n",
    "    arbre(5,9,9)\n",
    "    arbre(7,7,7)\n",
    "    arbre(3,9,67)\n",
    "    arbre(50,10,34)\n",
    "    arbre(65,3,56)\n",
    "    arbre(34,13,90)\n",
    "    arbre(90,7,45)\n",
    "    arbre(27,8,74)\n",
    "    arbre(78,4,5)"
   ]
  },
  {
   "cell_type": "markdown",
   "metadata": {},
   "source": [
    "#### Fonctions servant à initialiser servos et boutons"
   ]
  },
  {
   "cell_type": "code",
   "execution_count": 5,
   "metadata": {},
   "outputs": [],
   "source": [
    "def init_boutons():\n",
    "    \"\"\"Initialisation des 6 boutons en pull-up.\"\"\"\n",
    "    gpio.setmode(gpio.BCM) # Mode du GPIO\n",
    "    gpio.setup(buttonL, gpio.IN, pull_up_down=gpio.PUD_UP)\n",
    "    gpio.setup(buttonR, gpio.IN, pull_up_down=gpio.PUD_UP)\n",
    "    gpio.setup(buttonA, gpio.IN, pull_up_down=gpio.PUD_UP)    \n",
    "    gpio.setup(buttonB, gpio.IN, pull_up_down=gpio.PUD_UP)\n",
    "    gpio.setup(buttonC, gpio.IN, pull_up_down=gpio.PUD_UP)\n",
    "    gpio.setup(buttonD, gpio.IN, pull_up_down=gpio.PUD_UP)\n",
    "    \n",
    "def init_servos():\n",
    "    \"\"\"Initialiser les servo-moteurs.\"\"\"\n",
    "    #Servo pour rotation du personnage, connecté à boutons C et D\n",
    "    gpio.setup(2, gpio.OUT)\n",
    "    pwm = gpio.PWM(2, 50)\n",
    "\n",
    "    # Servo pour clique gauche, connecté à bouton A\n",
    "    gpio.setup(18, gpio.OUT)\n",
    "    pwmL = gpio.PWM(18, 50)\n",
    "\n",
    "    # Servo pour clique droit, connecté à bouton B\n",
    "    gpio.setup(13, gpio.OUT)\n",
    "    pwmR = gpio.PWM(13, 50)\n",
    "\n",
    "    ##Etat de base des servo\n",
    "    pwmL.start(4)# Position  de base du servo pwmL\n",
    "    pwmR.start(8)#  Etat de base du servo pwmR\n",
    "\n",
    "    x = 7.5\n",
    "    pwm.start(x)"
   ]
  },
  {
   "cell_type": "markdown",
   "metadata": {},
   "source": [
    "#### Initialisation à l'état précédent des boutons."
   ]
  },
  {
   "cell_type": "code",
   "execution_count": 6,
   "metadata": {},
   "outputs": [],
   "source": [
    "L0 = False \n",
    "R0 = False\n",
    "A0 = False \n",
    "B0 = False \n",
    "C0 = False\n",
    "D0 = False"
   ]
  },
  {
   "cell_type": "markdown",
   "metadata": {},
   "source": [
    "#### Fonctions qui initialise"
   ]
  },
  {
   "cell_type": "code",
   "execution_count": 8,
   "metadata": {},
   "outputs": [
    {
     "ename": "NameError",
     "evalue": "name 'gpio' is not defined",
     "output_type": "error",
     "traceback": [
      "\u001b[0;31m---------------------------------------------------------------------------\u001b[0m",
      "\u001b[0;31mNameError\u001b[0m                                 Traceback (most recent call last)",
      "\u001b[0;32m<ipython-input-8-67076539d178>\u001b[0m in \u001b[0;36m<module>\u001b[0;34m()\u001b[0m\n\u001b[0;32m----> 1\u001b[0;31m \u001b[0minit_boutons\u001b[0m\u001b[0;34m(\u001b[0m\u001b[0;34m)\u001b[0m\u001b[0;34m\u001b[0m\u001b[0m\n\u001b[0m\u001b[1;32m      2\u001b[0m \u001b[0minit_servos\u001b[0m\u001b[0;34m(\u001b[0m\u001b[0;34m)\u001b[0m\u001b[0;34m\u001b[0m\u001b[0m\n\u001b[1;32m      3\u001b[0m \u001b[0mmonde_plat\u001b[0m\u001b[0;34m(\u001b[0m\u001b[0;34m)\u001b[0m\u001b[0;34m\u001b[0m\u001b[0m\n\u001b[1;32m      4\u001b[0m \u001b[0mforet\u001b[0m\u001b[0;34m(\u001b[0m\u001b[0;34m)\u001b[0m\u001b[0;34m\u001b[0m\u001b[0m\n",
      "\u001b[0;32m<ipython-input-5-b32b54f5b77a>\u001b[0m in \u001b[0;36minit_boutons\u001b[0;34m()\u001b[0m\n\u001b[1;32m      1\u001b[0m \u001b[0;32mdef\u001b[0m \u001b[0minit_boutons\u001b[0m\u001b[0;34m(\u001b[0m\u001b[0;34m)\u001b[0m\u001b[0;34m:\u001b[0m\u001b[0;34m\u001b[0m\u001b[0m\n\u001b[1;32m      2\u001b[0m     \u001b[0;34m\"\"\"Initialisation des 6 boutons en pull-up.\"\"\"\u001b[0m\u001b[0;34m\u001b[0m\u001b[0m\n\u001b[0;32m----> 3\u001b[0;31m     \u001b[0mgpio\u001b[0m\u001b[0;34m.\u001b[0m\u001b[0msetmode\u001b[0m\u001b[0;34m(\u001b[0m\u001b[0mgpio\u001b[0m\u001b[0;34m.\u001b[0m\u001b[0mBCM\u001b[0m\u001b[0;34m)\u001b[0m \u001b[0;31m# Mode du GPIO\u001b[0m\u001b[0;34m\u001b[0m\u001b[0m\n\u001b[0m\u001b[1;32m      4\u001b[0m     \u001b[0mgpio\u001b[0m\u001b[0;34m.\u001b[0m\u001b[0msetup\u001b[0m\u001b[0;34m(\u001b[0m\u001b[0mbuttonL\u001b[0m\u001b[0;34m,\u001b[0m \u001b[0mgpio\u001b[0m\u001b[0;34m.\u001b[0m\u001b[0mIN\u001b[0m\u001b[0;34m,\u001b[0m \u001b[0mpull_up_down\u001b[0m\u001b[0;34m=\u001b[0m\u001b[0mgpio\u001b[0m\u001b[0;34m.\u001b[0m\u001b[0mPUD_UP\u001b[0m\u001b[0;34m)\u001b[0m\u001b[0;34m\u001b[0m\u001b[0m\n\u001b[1;32m      5\u001b[0m     \u001b[0mgpio\u001b[0m\u001b[0;34m.\u001b[0m\u001b[0msetup\u001b[0m\u001b[0;34m(\u001b[0m\u001b[0mbuttonR\u001b[0m\u001b[0;34m,\u001b[0m \u001b[0mgpio\u001b[0m\u001b[0;34m.\u001b[0m\u001b[0mIN\u001b[0m\u001b[0;34m,\u001b[0m \u001b[0mpull_up_down\u001b[0m\u001b[0;34m=\u001b[0m\u001b[0mgpio\u001b[0m\u001b[0;34m.\u001b[0m\u001b[0mPUD_UP\u001b[0m\u001b[0;34m)\u001b[0m\u001b[0;34m\u001b[0m\u001b[0m\n",
      "\u001b[0;31mNameError\u001b[0m: name 'gpio' is not defined"
     ]
    }
   ],
   "source": [
    "init_boutons()\n",
    "init_servos()\n",
    "monde_plat()\n",
    "foret()"
   ]
  },
  {
   "cell_type": "markdown",
   "metadata": {},
   "source": [
    "Boucle"
   ]
  },
  {
   "cell_type": "code",
   "execution_count": 10,
   "metadata": {},
   "outputs": [
    {
     "ename": "NameError",
     "evalue": "name 'gpio' is not defined",
     "output_type": "error",
     "traceback": [
      "\u001b[0;31m---------------------------------------------------------------------------\u001b[0m",
      "\u001b[0;31mNameError\u001b[0m                                 Traceback (most recent call last)",
      "\u001b[0;32m<ipython-input-10-6b780423b8d5>\u001b[0m in \u001b[0;36m<module>\u001b[0;34m()\u001b[0m\n\u001b[1;32m      2\u001b[0m \u001b[0;31m##  Code avancer buttons\u001b[0m\u001b[0;34m\u001b[0m\u001b[0;34m\u001b[0m\u001b[0m\n\u001b[1;32m      3\u001b[0m \u001b[0;34m\u001b[0m\u001b[0m\n\u001b[0;32m----> 4\u001b[0;31m     \u001b[0mL\u001b[0m \u001b[0;34m=\u001b[0m \u001b[0mgpio\u001b[0m\u001b[0;34m.\u001b[0m\u001b[0minput\u001b[0m\u001b[0;34m(\u001b[0m\u001b[0mbuttonL\u001b[0m\u001b[0;34m)\u001b[0m\u001b[0;34m\u001b[0m\u001b[0m\n\u001b[0m\u001b[1;32m      5\u001b[0m     \u001b[0mR\u001b[0m \u001b[0;34m=\u001b[0m \u001b[0mgpio\u001b[0m\u001b[0;34m.\u001b[0m\u001b[0minput\u001b[0m\u001b[0;34m(\u001b[0m\u001b[0mbuttonR\u001b[0m\u001b[0;34m)\u001b[0m\u001b[0;34m\u001b[0m\u001b[0m\n\u001b[1;32m      6\u001b[0m \u001b[0;34m\u001b[0m\u001b[0m\n",
      "\u001b[0;31mNameError\u001b[0m: name 'gpio' is not defined"
     ]
    }
   ],
   "source": [
    "while True:\n",
    "##  Code avancer buttons\n",
    "\n",
    "    L = gpio.input(buttonL)\n",
    "    R = gpio.input(buttonR)\n",
    "\n",
    "    if not L and L0:\n",
    "        pyautogui.keyDown('w')\n",
    "    if L and not L0:\n",
    "        pyautogui.keyUp('w')\t\n",
    "    L0 = L\n",
    "    \n",
    "    \n",
    "    if not R and R0:\n",
    "        pyautogui.keyDown('w')\n",
    "    if R and not R0:\n",
    "        pyautogui.keyUp('w')\t\n",
    "    R0 = R\n",
    "\n",
    "\n",
    "## Code créer et casser brique avec servo pwmL et pwmR button A et button B\n",
    "\n",
    "    A = gpio.input(buttonA)\n",
    "    B = gpio.input(buttonB)\n",
    "\n",
    "# clique gauche de la souris, casser une brique\n",
    "\n",
    "    if not A and A0:\n",
    "        pwmL.ChangeDutyCycle(2.5)\n",
    "        time.sleep(0.5)\n",
    "        pwmL.ChangeDutyCycle(4)\n",
    "    if A and not A0:\n",
    "        pass\t    \n",
    "    A0 = A\n",
    "    \n",
    "# clique droite de la souris, créer une brique\n",
    "\n",
    "    if not B and B0:\n",
    "        pwmR.ChangeDutyCycle(11)\n",
    "        time.sleep(0.75)\n",
    "        pwmR.ChangeDutyCycle(8)\n",
    "    if B and not B0:\n",
    "        pass    \n",
    "    B0 = B\n",
    "    \n",
    "\n",
    "## code rotation personnage pwm et buttonC et buttonD\n",
    "\n",
    "    C = gpio.input(buttonC)\n",
    "    D = gpio.input(buttonD)\n",
    "\n",
    "### tire le miservo vers 12.5\n",
    "\n",
    "    if not C and C0 and x < 12.5:\n",
    "        pwm.ChangeDutyCycle(x+2.5)\n",
    "        x = x+2.5\n",
    "    if C and not C0:\n",
    "            pass \n",
    "    C0 = C\n",
    "\n",
    "    # tire le mini servo vers 2.5\n",
    "    \n",
    "    if not D and D0 and x > 2.5:\n",
    "        pwm.ChangeDutyCycle(x-2.5)\n",
    "        x = x-2.5\n",
    "    if D and not D0:\n",
    "        pass\t\t\n",
    "    D0 = D"
   ]
  },
  {
   "cell_type": "code",
   "execution_count": null,
   "metadata": {},
   "outputs": [],
   "source": []
  }
 ],
 "metadata": {
  "kernelspec": {
   "display_name": "Python 3",
   "language": "python",
   "name": "python3"
  },
  "language_info": {
   "codemirror_mode": {
    "name": "ipython",
    "version": 3
   },
   "file_extension": ".py",
   "mimetype": "text/x-python",
   "name": "python",
   "nbconvert_exporter": "python",
   "pygments_lexer": "ipython3",
   "version": "3.4.2"
  }
 },
 "nbformat": 4,
 "nbformat_minor": 2
}
