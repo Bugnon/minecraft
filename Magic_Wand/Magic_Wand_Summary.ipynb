{
 "cells": [
  {
   "cell_type": "markdown",
   "metadata": {},
   "source": [
    "## Bridge"
   ]
  },
  {
   "cell_type": "markdown",
   "metadata": {},
   "source": [
    "pour créer un pont de longueur adaptative selon le terrain il faut tout d'abord connaitre la longueur nécessaire du pont, donc le nombre de blocs non pleins entre le début du pont et la fin."
   ]
  },
  {
   "cell_type": "markdown",
   "metadata": {},
   "source": [
    "Il faut définir une fonction qui vérifie si un bloc est un bloc d'air ou d'eau"
   ]
  },
  {
   "cell_type": "code",
   "execution_count": 53,
   "metadata": {},
   "outputs": [],
   "source": [
    "def isvoid(x,y,z):\n",
    "    \"\"\"Verifie si le bloc est de l'air ou de l'eau\"\"\"\n",
    "    b = mc.getBlock(x,y,z)\n",
    "    if  b == 0 or b == 8 or b == 9:\n",
    "        return True\n",
    "    else:\n",
    "        return False"
   ]
  },
  {
   "cell_type": "markdown",
   "metadata": {},
   "source": [
    "Puis définir une fonction qui retourne la longueur du pont."
   ]
  },
  {
   "cell_type": "code",
   "execution_count": 54,
   "metadata": {},
   "outputs": [],
   "source": [
    "def lengthbridge(x,y,z):\n",
    "    \"\"\"Retourne la longueur du pont\"\"\"\n",
    "    l=0\n",
    "# si l'un des deux blocs est vide le pont doit continuer\n",
    "# le bloc doit etre en-dessous du joueur\n",
    "    if isvoid(x,y-1,z-1) is True or isvoid(x+1,y-1,z-1) is True:\n",
    "        i=1\n",
    "        while isvoid(x,y-1,z-i) is True or isvoid(x+1,y-1,z-i) is True:\n",
    "            i+=1\n",
    "# si les deux blocs sont pleins le pont se termine\n",
    "            if isvoid(x,y-1,z-i) is False and isvoid(x+1,y-1,z-i) is False:\n",
    "# la longueur sous le pont\n",
    "                l+=i-1\n",
    "        else:\n",
    "# si le joueur ne se trouve pas a coté du vide la fonction est appelée un bloc plus au nord\n",
    "            lengthbridge(x,y,z-1)\n",
    "    return l"
   ]
  },
  {
   "cell_type": "markdown",
   "metadata": {},
   "source": [
    "Finalement la fonction bridge est définie couche par couche les blocs sont définis selon une des deux matières."
   ]
  },
  {
   "cell_type": "markdown",
   "metadata": {},
   "source": [
    "1) Premier étage du pont"
   ]
  },
  {
   "cell_type": "code",
   "execution_count": 55,
   "metadata": {},
   "outputs": [],
   "source": [
    "def first_stage(x, y, z):\n",
    "    \"\"\"Construit le premier étage du pont\"\"\"\n",
    "# deux escaliers décoratifs à l'avant du pont\n",
    "    mc.setBlock(xs-1, ys+1, zs+2, stairs, 3)\n",
    "    mc.setBlock(xs+2, ys+1, zs+2, stairs, 3)\n",
    "# escaliers sur lesquels le joueur marche\n",
    "    mc.setBlocks(xs, ys+1, zs+1, xs+1, ys+1, zs+1, stairs, 3)\n",
    "# deux blocs décoratifs sur le coté du pont\n",
    "    mc.setBlock(xs-1, ys+1, zs+1, block)\n",
    "    mc.setBlock(xs+2,ys+1,zs+1,block)\n",
    "# escaliers à l'envers derrière les escaliers précédents\n",
    "    mc.setBlocks(xs-1,ys+1,zs,xs+2,ys+1,zs,stairs,6)\n",
    "# deux escaliers décoratifs à l'arrière du pont\n",
    "    mc.setBlock(xs-1,ys+1,zs-l-1,stairs,2)\n",
    "    mc.setBlock(xs+2,ys+1,zs-l-1,stairs,2)\n",
    "# escaliers sur lesquels le joueur marche\n",
    "    mc.setBlocks(xs,ys+1,zs-l,xs+1,ys+1,zs-l,stairs,2)\n",
    "# escaliers à l'envers devant les escaliers précédents\n",
    "    mc.setBlocks(xs-1,ys+1,zs-l+1,xs+2,ys+1,zs-l+1,stairs,7)\n",
    "# deux blocs décoratifs sur le coté du pont\n",
    "    mc.setBlock(xs-1,ys+1,zs-l,block)\n",
    "    mc.setBlock(xs+2,ys+1,zs-l,block)"
   ]
  },
  {
   "cell_type": "markdown",
   "metadata": {},
   "source": [
    "2) Deuxième étage du pont"
   ]
  },
  {
   "cell_type": "code",
   "execution_count": 56,
   "metadata": {},
   "outputs": [],
   "source": [
    "def second_stage(x, y, z):\n",
    "    \"\"\"Construit le deuxième étage du pont\"\"\"\n",
    "# deux escaliers décoratifs sur le coté du pont\n",
    "    mc.setBlock(xs-1,ys+2,zs+1,stairs,3)\n",
    "    mc.setBlock(xs+2,ys+2,zs+1,stairs,3)\n",
    "# escaliers sur lesquels le joueur marche\n",
    "    mc.setBlocks(xs,ys+2,zs,xs+1,ys+2,zs,stairs,3)\n",
    "# deux blocs décoratifs sur le coté du pont\n",
    "    mc.setBlock(xs-1,ys+2,zs,block)\n",
    "    mc.setBlock(xs+2,ys+2,zs,block)\n",
    "# deux escaliers décoratifs à l'envers sur le coté du pont\n",
    "    mc.setBlock(xs-1,ys+2,zs-1,stairs,6)\n",
    "    mc.setBlock(xs+2,ys+2,zs-1,stairs,6)\n",
    "# deux escaliers décoratifs sur le coté du pont\n",
    "    mc.setBlock(xs-1,ys+2,zs-l,stairs,2)\n",
    "    mc.setBlock(xs+2,ys+2,zs-l,stairs,2)\n",
    "# deux blocs décoratifs sur le coté du pont\n",
    "    mc.setBlock(xs-1,ys+2,zs-l+1,block)\n",
    "    mc.setBlock(xs+2,ys+2,zs-l+1,block)\n",
    "# deux escaliers décoratifs à l'envers sur le coté du pont\n",
    "    mc.setBlock(xs-1,ys+2,zs-l+2,stairs,7)\n",
    "    mc.setBlock(xs+2,ys+2,zs-l+2,stairs,7)\n",
    "# escaliers sur lesquels le joueur marche\n",
    "    mc.setBlocks(xs,ys+2,zs-l+1,xs+1,ys+2,zs-l+1,stairs,2)\n",
    "# partie principale du pont\n",
    "    mc.setBlocks(xs,ys+2,zs-1,xs+1,ys+2,zs-l+2,block)\n",
    "# escaliers décoratifs à l'envers\n",
    "    mc.setBlocks(xs-1,ys+2,zs-2,xs-1,ys+2,zs-l+3,stairs,4)\n",
    "    mc.setBlocks(xs+2,ys+2,zs-2,xs+2,ys+2,zs-l+3,stairs,5)"
   ]
  },
  {
   "cell_type": "markdown",
   "metadata": {},
   "source": [
    "3) Le pont entier"
   ]
  },
  {
   "cell_type": "code",
   "execution_count": 57,
   "metadata": {},
   "outputs": [],
   "source": [
    "def bridge(x, y, z, blocktype):\n",
    "    \"\"\"Construit le pont\"\"\"\n",
    "    l = lengthbridge(x, y, z)\n",
    "# minimum 2 escaliers, 1 bloc et 2 escaliers \n",
    "    if l > 5:\n",
    "# attribue un id correspondant pour les escaliers et blocs \n",
    "# pour la pierre et le bois\n",
    "        if blocktype is \"COBBLESTONE\":\n",
    "            stairs = 67\n",
    "            block = 4\n",
    "        if blocktype is \"WOOD\":\n",
    "            stairs = 53\n",
    "            block = 5\n",
    "        i = 1\n",
    "        while True:\n",
    "# Trouve le point de départ du pont si le joueur est sur un terrain plat\n",
    "            if isvoid(x,y-1,z-i) is True or isvoid(x+1,y-1,z-i) is True:\n",
    "                xs, ys, zs = x, y-1, z-i\n",
    "                break\n",
    "            else:\n",
    "                i += 1\n",
    "# 1er étage\n",
    "        first_stage(x, y, z)\n",
    "# 2nd étage\n",
    "        second_stage(x, y, z)\n",
    "# 3eme étage\n",
    "# rembarde de blocs\n",
    "        mc.setBlocks(xs-1,ys+3,zs,xs-1,ys+3,zs-l+1,block)\n",
    "        mc.setBlocks(xs+2,ys+3,zs,xs+2,ys+3,zs-l+1,block)"
   ]
  },
  {
   "cell_type": "code",
   "execution_count": null,
   "metadata": {},
   "outputs": [],
   "source": []
  }
 ],
 "metadata": {
  "kernelspec": {
   "display_name": "Python 3",
   "language": "python",
   "name": "python3"
  },
  "language_info": {
   "codemirror_mode": {
    "name": "ipython",
    "version": 3
   },
   "file_extension": ".py",
   "mimetype": "text/x-python",
   "name": "python",
   "nbconvert_exporter": "python",
   "pygments_lexer": "ipython3",
   "version": "3.4.2"
  }
 },
 "nbformat": 4,
 "nbformat_minor": 2
}
